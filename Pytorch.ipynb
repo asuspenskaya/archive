{
  "nbformat": 4,
  "nbformat_minor": 0,
  "metadata": {
    "colab": {
      "name": "Pytorch.ipynb",
      "provenance": [],
      "collapsed_sections": []
    },
    "kernelspec": {
      "display_name": "Python 3",
      "language": "python",
      "name": "python3"
    },
    "language_info": {
      "codemirror_mode": {
        "name": "ipython",
        "version": 3
      },
      "file_extension": ".py",
      "mimetype": "text/x-python",
      "name": "python",
      "nbconvert_exporter": "python",
      "pygments_lexer": "ipython3",
      "version": "3.8.3"
    },
    "widgets": {
      "application/vnd.jupyter.widget-state+json": {
        "419bf6d63db745418b1a1d89e3aa5a9c": {
          "model_module": "@jupyter-widgets/controls",
          "model_name": "HBoxModel",
          "state": {
            "_view_name": "HBoxView",
            "_dom_classes": [],
            "_model_name": "HBoxModel",
            "_view_module": "@jupyter-widgets/controls",
            "_model_module_version": "1.5.0",
            "_view_count": null,
            "_view_module_version": "1.5.0",
            "box_style": "",
            "layout": "IPY_MODEL_ba427dcecdb949c2a432770688c44b3e",
            "_model_module": "@jupyter-widgets/controls",
            "children": [
              "IPY_MODEL_b8884fa7915e44e6a4bffdaa73a3e2f4",
              "IPY_MODEL_9cda79013fe64193afb99eb444cb4784"
            ]
          }
        },
        "ba427dcecdb949c2a432770688c44b3e": {
          "model_module": "@jupyter-widgets/base",
          "model_name": "LayoutModel",
          "state": {
            "_view_name": "LayoutView",
            "grid_template_rows": null,
            "right": null,
            "justify_content": null,
            "_view_module": "@jupyter-widgets/base",
            "overflow": null,
            "_model_module_version": "1.2.0",
            "_view_count": null,
            "flex_flow": null,
            "width": null,
            "min_width": null,
            "border": null,
            "align_items": null,
            "bottom": null,
            "_model_module": "@jupyter-widgets/base",
            "top": null,
            "grid_column": null,
            "overflow_y": null,
            "overflow_x": null,
            "grid_auto_flow": null,
            "grid_area": null,
            "grid_template_columns": null,
            "flex": null,
            "_model_name": "LayoutModel",
            "justify_items": null,
            "grid_row": null,
            "max_height": null,
            "align_content": null,
            "visibility": null,
            "align_self": null,
            "height": null,
            "min_height": null,
            "padding": null,
            "grid_auto_rows": null,
            "grid_gap": null,
            "max_width": null,
            "order": null,
            "_view_module_version": "1.2.0",
            "grid_template_areas": null,
            "object_position": null,
            "object_fit": null,
            "grid_auto_columns": null,
            "margin": null,
            "display": null,
            "left": null
          }
        },
        "b8884fa7915e44e6a4bffdaa73a3e2f4": {
          "model_module": "@jupyter-widgets/controls",
          "model_name": "FloatProgressModel",
          "state": {
            "_view_name": "ProgressView",
            "style": "IPY_MODEL_c4ba4194ce6948758ec30b7e65595b21",
            "_dom_classes": [],
            "description": "",
            "_model_name": "FloatProgressModel",
            "bar_style": "success",
            "max": 1,
            "_view_module": "@jupyter-widgets/controls",
            "_model_module_version": "1.5.0",
            "value": 1,
            "_view_count": null,
            "_view_module_version": "1.5.0",
            "orientation": "horizontal",
            "min": 0,
            "description_tooltip": null,
            "_model_module": "@jupyter-widgets/controls",
            "layout": "IPY_MODEL_0936dcd4e73645b5828634d4cd572e5c"
          }
        },
        "9cda79013fe64193afb99eb444cb4784": {
          "model_module": "@jupyter-widgets/controls",
          "model_name": "HTMLModel",
          "state": {
            "_view_name": "HTMLView",
            "style": "IPY_MODEL_58f654461a304d688961149e10a1e6a2",
            "_dom_classes": [],
            "description": "",
            "_model_name": "HTMLModel",
            "placeholder": "​",
            "_view_module": "@jupyter-widgets/controls",
            "_model_module_version": "1.5.0",
            "value": " 26427392/? [00:04&lt;00:00, 5970634.34it/s]",
            "_view_count": null,
            "_view_module_version": "1.5.0",
            "description_tooltip": null,
            "_model_module": "@jupyter-widgets/controls",
            "layout": "IPY_MODEL_38129116c9f448c7b140680f6d03d0f0"
          }
        },
        "c4ba4194ce6948758ec30b7e65595b21": {
          "model_module": "@jupyter-widgets/controls",
          "model_name": "ProgressStyleModel",
          "state": {
            "_view_name": "StyleView",
            "_model_name": "ProgressStyleModel",
            "description_width": "initial",
            "_view_module": "@jupyter-widgets/base",
            "_model_module_version": "1.5.0",
            "_view_count": null,
            "_view_module_version": "1.2.0",
            "bar_color": null,
            "_model_module": "@jupyter-widgets/controls"
          }
        },
        "0936dcd4e73645b5828634d4cd572e5c": {
          "model_module": "@jupyter-widgets/base",
          "model_name": "LayoutModel",
          "state": {
            "_view_name": "LayoutView",
            "grid_template_rows": null,
            "right": null,
            "justify_content": null,
            "_view_module": "@jupyter-widgets/base",
            "overflow": null,
            "_model_module_version": "1.2.0",
            "_view_count": null,
            "flex_flow": null,
            "width": null,
            "min_width": null,
            "border": null,
            "align_items": null,
            "bottom": null,
            "_model_module": "@jupyter-widgets/base",
            "top": null,
            "grid_column": null,
            "overflow_y": null,
            "overflow_x": null,
            "grid_auto_flow": null,
            "grid_area": null,
            "grid_template_columns": null,
            "flex": null,
            "_model_name": "LayoutModel",
            "justify_items": null,
            "grid_row": null,
            "max_height": null,
            "align_content": null,
            "visibility": null,
            "align_self": null,
            "height": null,
            "min_height": null,
            "padding": null,
            "grid_auto_rows": null,
            "grid_gap": null,
            "max_width": null,
            "order": null,
            "_view_module_version": "1.2.0",
            "grid_template_areas": null,
            "object_position": null,
            "object_fit": null,
            "grid_auto_columns": null,
            "margin": null,
            "display": null,
            "left": null
          }
        },
        "58f654461a304d688961149e10a1e6a2": {
          "model_module": "@jupyter-widgets/controls",
          "model_name": "DescriptionStyleModel",
          "state": {
            "_view_name": "StyleView",
            "_model_name": "DescriptionStyleModel",
            "description_width": "",
            "_view_module": "@jupyter-widgets/base",
            "_model_module_version": "1.5.0",
            "_view_count": null,
            "_view_module_version": "1.2.0",
            "_model_module": "@jupyter-widgets/controls"
          }
        },
        "38129116c9f448c7b140680f6d03d0f0": {
          "model_module": "@jupyter-widgets/base",
          "model_name": "LayoutModel",
          "state": {
            "_view_name": "LayoutView",
            "grid_template_rows": null,
            "right": null,
            "justify_content": null,
            "_view_module": "@jupyter-widgets/base",
            "overflow": null,
            "_model_module_version": "1.2.0",
            "_view_count": null,
            "flex_flow": null,
            "width": null,
            "min_width": null,
            "border": null,
            "align_items": null,
            "bottom": null,
            "_model_module": "@jupyter-widgets/base",
            "top": null,
            "grid_column": null,
            "overflow_y": null,
            "overflow_x": null,
            "grid_auto_flow": null,
            "grid_area": null,
            "grid_template_columns": null,
            "flex": null,
            "_model_name": "LayoutModel",
            "justify_items": null,
            "grid_row": null,
            "max_height": null,
            "align_content": null,
            "visibility": null,
            "align_self": null,
            "height": null,
            "min_height": null,
            "padding": null,
            "grid_auto_rows": null,
            "grid_gap": null,
            "max_width": null,
            "order": null,
            "_view_module_version": "1.2.0",
            "grid_template_areas": null,
            "object_position": null,
            "object_fit": null,
            "grid_auto_columns": null,
            "margin": null,
            "display": null,
            "left": null
          }
        },
        "30185d70b60d4dacbda7636a69ea464a": {
          "model_module": "@jupyter-widgets/controls",
          "model_name": "HBoxModel",
          "state": {
            "_view_name": "HBoxView",
            "_dom_classes": [],
            "_model_name": "HBoxModel",
            "_view_module": "@jupyter-widgets/controls",
            "_model_module_version": "1.5.0",
            "_view_count": null,
            "_view_module_version": "1.5.0",
            "box_style": "",
            "layout": "IPY_MODEL_c3bbd327fadc4f98a8f35183c54f5047",
            "_model_module": "@jupyter-widgets/controls",
            "children": [
              "IPY_MODEL_71786103ae2041cba9baf480614d8c87",
              "IPY_MODEL_8f795593d3fe491aba990fa658220169"
            ]
          }
        },
        "c3bbd327fadc4f98a8f35183c54f5047": {
          "model_module": "@jupyter-widgets/base",
          "model_name": "LayoutModel",
          "state": {
            "_view_name": "LayoutView",
            "grid_template_rows": null,
            "right": null,
            "justify_content": null,
            "_view_module": "@jupyter-widgets/base",
            "overflow": null,
            "_model_module_version": "1.2.0",
            "_view_count": null,
            "flex_flow": null,
            "width": null,
            "min_width": null,
            "border": null,
            "align_items": null,
            "bottom": null,
            "_model_module": "@jupyter-widgets/base",
            "top": null,
            "grid_column": null,
            "overflow_y": null,
            "overflow_x": null,
            "grid_auto_flow": null,
            "grid_area": null,
            "grid_template_columns": null,
            "flex": null,
            "_model_name": "LayoutModel",
            "justify_items": null,
            "grid_row": null,
            "max_height": null,
            "align_content": null,
            "visibility": null,
            "align_self": null,
            "height": null,
            "min_height": null,
            "padding": null,
            "grid_auto_rows": null,
            "grid_gap": null,
            "max_width": null,
            "order": null,
            "_view_module_version": "1.2.0",
            "grid_template_areas": null,
            "object_position": null,
            "object_fit": null,
            "grid_auto_columns": null,
            "margin": null,
            "display": null,
            "left": null
          }
        },
        "71786103ae2041cba9baf480614d8c87": {
          "model_module": "@jupyter-widgets/controls",
          "model_name": "FloatProgressModel",
          "state": {
            "_view_name": "ProgressView",
            "style": "IPY_MODEL_9ad825f4ba1040c7924aa343d99d879c",
            "_dom_classes": [],
            "description": "",
            "_model_name": "FloatProgressModel",
            "bar_style": "success",
            "max": 1,
            "_view_module": "@jupyter-widgets/controls",
            "_model_module_version": "1.5.0",
            "value": 1,
            "_view_count": null,
            "_view_module_version": "1.5.0",
            "orientation": "horizontal",
            "min": 0,
            "description_tooltip": null,
            "_model_module": "@jupyter-widgets/controls",
            "layout": "IPY_MODEL_a266573e6eba4b14bf1492785c56995b"
          }
        },
        "8f795593d3fe491aba990fa658220169": {
          "model_module": "@jupyter-widgets/controls",
          "model_name": "HTMLModel",
          "state": {
            "_view_name": "HTMLView",
            "style": "IPY_MODEL_06f9e1a6b53349209250bfac67b9c895",
            "_dom_classes": [],
            "description": "",
            "_model_name": "HTMLModel",
            "placeholder": "​",
            "_view_module": "@jupyter-widgets/controls",
            "_model_module_version": "1.5.0",
            "value": " 32768/? [00:00&lt;00:00, 87809.08it/s]",
            "_view_count": null,
            "_view_module_version": "1.5.0",
            "description_tooltip": null,
            "_model_module": "@jupyter-widgets/controls",
            "layout": "IPY_MODEL_4b4ddcf313bc4469b07b59dd11d013e5"
          }
        },
        "9ad825f4ba1040c7924aa343d99d879c": {
          "model_module": "@jupyter-widgets/controls",
          "model_name": "ProgressStyleModel",
          "state": {
            "_view_name": "StyleView",
            "_model_name": "ProgressStyleModel",
            "description_width": "initial",
            "_view_module": "@jupyter-widgets/base",
            "_model_module_version": "1.5.0",
            "_view_count": null,
            "_view_module_version": "1.2.0",
            "bar_color": null,
            "_model_module": "@jupyter-widgets/controls"
          }
        },
        "a266573e6eba4b14bf1492785c56995b": {
          "model_module": "@jupyter-widgets/base",
          "model_name": "LayoutModel",
          "state": {
            "_view_name": "LayoutView",
            "grid_template_rows": null,
            "right": null,
            "justify_content": null,
            "_view_module": "@jupyter-widgets/base",
            "overflow": null,
            "_model_module_version": "1.2.0",
            "_view_count": null,
            "flex_flow": null,
            "width": null,
            "min_width": null,
            "border": null,
            "align_items": null,
            "bottom": null,
            "_model_module": "@jupyter-widgets/base",
            "top": null,
            "grid_column": null,
            "overflow_y": null,
            "overflow_x": null,
            "grid_auto_flow": null,
            "grid_area": null,
            "grid_template_columns": null,
            "flex": null,
            "_model_name": "LayoutModel",
            "justify_items": null,
            "grid_row": null,
            "max_height": null,
            "align_content": null,
            "visibility": null,
            "align_self": null,
            "height": null,
            "min_height": null,
            "padding": null,
            "grid_auto_rows": null,
            "grid_gap": null,
            "max_width": null,
            "order": null,
            "_view_module_version": "1.2.0",
            "grid_template_areas": null,
            "object_position": null,
            "object_fit": null,
            "grid_auto_columns": null,
            "margin": null,
            "display": null,
            "left": null
          }
        },
        "06f9e1a6b53349209250bfac67b9c895": {
          "model_module": "@jupyter-widgets/controls",
          "model_name": "DescriptionStyleModel",
          "state": {
            "_view_name": "StyleView",
            "_model_name": "DescriptionStyleModel",
            "description_width": "",
            "_view_module": "@jupyter-widgets/base",
            "_model_module_version": "1.5.0",
            "_view_count": null,
            "_view_module_version": "1.2.0",
            "_model_module": "@jupyter-widgets/controls"
          }
        },
        "4b4ddcf313bc4469b07b59dd11d013e5": {
          "model_module": "@jupyter-widgets/base",
          "model_name": "LayoutModel",
          "state": {
            "_view_name": "LayoutView",
            "grid_template_rows": null,
            "right": null,
            "justify_content": null,
            "_view_module": "@jupyter-widgets/base",
            "overflow": null,
            "_model_module_version": "1.2.0",
            "_view_count": null,
            "flex_flow": null,
            "width": null,
            "min_width": null,
            "border": null,
            "align_items": null,
            "bottom": null,
            "_model_module": "@jupyter-widgets/base",
            "top": null,
            "grid_column": null,
            "overflow_y": null,
            "overflow_x": null,
            "grid_auto_flow": null,
            "grid_area": null,
            "grid_template_columns": null,
            "flex": null,
            "_model_name": "LayoutModel",
            "justify_items": null,
            "grid_row": null,
            "max_height": null,
            "align_content": null,
            "visibility": null,
            "align_self": null,
            "height": null,
            "min_height": null,
            "padding": null,
            "grid_auto_rows": null,
            "grid_gap": null,
            "max_width": null,
            "order": null,
            "_view_module_version": "1.2.0",
            "grid_template_areas": null,
            "object_position": null,
            "object_fit": null,
            "grid_auto_columns": null,
            "margin": null,
            "display": null,
            "left": null
          }
        },
        "f90e2f44eb944122bdc52a36667a6491": {
          "model_module": "@jupyter-widgets/controls",
          "model_name": "HBoxModel",
          "state": {
            "_view_name": "HBoxView",
            "_dom_classes": [],
            "_model_name": "HBoxModel",
            "_view_module": "@jupyter-widgets/controls",
            "_model_module_version": "1.5.0",
            "_view_count": null,
            "_view_module_version": "1.5.0",
            "box_style": "",
            "layout": "IPY_MODEL_c2df15d1a335456080858f287fc189e3",
            "_model_module": "@jupyter-widgets/controls",
            "children": [
              "IPY_MODEL_46715353488746f5a35b550abd96fe56",
              "IPY_MODEL_9fd84c580b6246a7ac3a4a424fd5cea9"
            ]
          }
        },
        "c2df15d1a335456080858f287fc189e3": {
          "model_module": "@jupyter-widgets/base",
          "model_name": "LayoutModel",
          "state": {
            "_view_name": "LayoutView",
            "grid_template_rows": null,
            "right": null,
            "justify_content": null,
            "_view_module": "@jupyter-widgets/base",
            "overflow": null,
            "_model_module_version": "1.2.0",
            "_view_count": null,
            "flex_flow": null,
            "width": null,
            "min_width": null,
            "border": null,
            "align_items": null,
            "bottom": null,
            "_model_module": "@jupyter-widgets/base",
            "top": null,
            "grid_column": null,
            "overflow_y": null,
            "overflow_x": null,
            "grid_auto_flow": null,
            "grid_area": null,
            "grid_template_columns": null,
            "flex": null,
            "_model_name": "LayoutModel",
            "justify_items": null,
            "grid_row": null,
            "max_height": null,
            "align_content": null,
            "visibility": null,
            "align_self": null,
            "height": null,
            "min_height": null,
            "padding": null,
            "grid_auto_rows": null,
            "grid_gap": null,
            "max_width": null,
            "order": null,
            "_view_module_version": "1.2.0",
            "grid_template_areas": null,
            "object_position": null,
            "object_fit": null,
            "grid_auto_columns": null,
            "margin": null,
            "display": null,
            "left": null
          }
        },
        "46715353488746f5a35b550abd96fe56": {
          "model_module": "@jupyter-widgets/controls",
          "model_name": "FloatProgressModel",
          "state": {
            "_view_name": "ProgressView",
            "style": "IPY_MODEL_ad69256fe62a45a1b2a7880e5b24015d",
            "_dom_classes": [],
            "description": "",
            "_model_name": "FloatProgressModel",
            "bar_style": "success",
            "max": 1,
            "_view_module": "@jupyter-widgets/controls",
            "_model_module_version": "1.5.0",
            "value": 1,
            "_view_count": null,
            "_view_module_version": "1.5.0",
            "orientation": "horizontal",
            "min": 0,
            "description_tooltip": null,
            "_model_module": "@jupyter-widgets/controls",
            "layout": "IPY_MODEL_10db47fcf25f465ea8dbd5f1d7677dd2"
          }
        },
        "9fd84c580b6246a7ac3a4a424fd5cea9": {
          "model_module": "@jupyter-widgets/controls",
          "model_name": "HTMLModel",
          "state": {
            "_view_name": "HTMLView",
            "style": "IPY_MODEL_7aa568384d94437297507d512d896fcc",
            "_dom_classes": [],
            "description": "",
            "_model_name": "HTMLModel",
            "placeholder": "​",
            "_view_module": "@jupyter-widgets/controls",
            "_model_module_version": "1.5.0",
            "value": " 4423680/? [00:01&lt;00:00, 2538392.93it/s]",
            "_view_count": null,
            "_view_module_version": "1.5.0",
            "description_tooltip": null,
            "_model_module": "@jupyter-widgets/controls",
            "layout": "IPY_MODEL_876a2d2eba7b41b4aa4cab0631774748"
          }
        },
        "ad69256fe62a45a1b2a7880e5b24015d": {
          "model_module": "@jupyter-widgets/controls",
          "model_name": "ProgressStyleModel",
          "state": {
            "_view_name": "StyleView",
            "_model_name": "ProgressStyleModel",
            "description_width": "initial",
            "_view_module": "@jupyter-widgets/base",
            "_model_module_version": "1.5.0",
            "_view_count": null,
            "_view_module_version": "1.2.0",
            "bar_color": null,
            "_model_module": "@jupyter-widgets/controls"
          }
        },
        "10db47fcf25f465ea8dbd5f1d7677dd2": {
          "model_module": "@jupyter-widgets/base",
          "model_name": "LayoutModel",
          "state": {
            "_view_name": "LayoutView",
            "grid_template_rows": null,
            "right": null,
            "justify_content": null,
            "_view_module": "@jupyter-widgets/base",
            "overflow": null,
            "_model_module_version": "1.2.0",
            "_view_count": null,
            "flex_flow": null,
            "width": null,
            "min_width": null,
            "border": null,
            "align_items": null,
            "bottom": null,
            "_model_module": "@jupyter-widgets/base",
            "top": null,
            "grid_column": null,
            "overflow_y": null,
            "overflow_x": null,
            "grid_auto_flow": null,
            "grid_area": null,
            "grid_template_columns": null,
            "flex": null,
            "_model_name": "LayoutModel",
            "justify_items": null,
            "grid_row": null,
            "max_height": null,
            "align_content": null,
            "visibility": null,
            "align_self": null,
            "height": null,
            "min_height": null,
            "padding": null,
            "grid_auto_rows": null,
            "grid_gap": null,
            "max_width": null,
            "order": null,
            "_view_module_version": "1.2.0",
            "grid_template_areas": null,
            "object_position": null,
            "object_fit": null,
            "grid_auto_columns": null,
            "margin": null,
            "display": null,
            "left": null
          }
        },
        "7aa568384d94437297507d512d896fcc": {
          "model_module": "@jupyter-widgets/controls",
          "model_name": "DescriptionStyleModel",
          "state": {
            "_view_name": "StyleView",
            "_model_name": "DescriptionStyleModel",
            "description_width": "",
            "_view_module": "@jupyter-widgets/base",
            "_model_module_version": "1.5.0",
            "_view_count": null,
            "_view_module_version": "1.2.0",
            "_model_module": "@jupyter-widgets/controls"
          }
        },
        "876a2d2eba7b41b4aa4cab0631774748": {
          "model_module": "@jupyter-widgets/base",
          "model_name": "LayoutModel",
          "state": {
            "_view_name": "LayoutView",
            "grid_template_rows": null,
            "right": null,
            "justify_content": null,
            "_view_module": "@jupyter-widgets/base",
            "overflow": null,
            "_model_module_version": "1.2.0",
            "_view_count": null,
            "flex_flow": null,
            "width": null,
            "min_width": null,
            "border": null,
            "align_items": null,
            "bottom": null,
            "_model_module": "@jupyter-widgets/base",
            "top": null,
            "grid_column": null,
            "overflow_y": null,
            "overflow_x": null,
            "grid_auto_flow": null,
            "grid_area": null,
            "grid_template_columns": null,
            "flex": null,
            "_model_name": "LayoutModel",
            "justify_items": null,
            "grid_row": null,
            "max_height": null,
            "align_content": null,
            "visibility": null,
            "align_self": null,
            "height": null,
            "min_height": null,
            "padding": null,
            "grid_auto_rows": null,
            "grid_gap": null,
            "max_width": null,
            "order": null,
            "_view_module_version": "1.2.0",
            "grid_template_areas": null,
            "object_position": null,
            "object_fit": null,
            "grid_auto_columns": null,
            "margin": null,
            "display": null,
            "left": null
          }
        },
        "7a2e17a65a384b4788d055b8e4fbfc5d": {
          "model_module": "@jupyter-widgets/controls",
          "model_name": "HBoxModel",
          "state": {
            "_view_name": "HBoxView",
            "_dom_classes": [],
            "_model_name": "HBoxModel",
            "_view_module": "@jupyter-widgets/controls",
            "_model_module_version": "1.5.0",
            "_view_count": null,
            "_view_module_version": "1.5.0",
            "box_style": "",
            "layout": "IPY_MODEL_6628bccbe4c243659ddff9cdacbd2ce9",
            "_model_module": "@jupyter-widgets/controls",
            "children": [
              "IPY_MODEL_ada38ecbdc2d4a8086478de1871a35f6",
              "IPY_MODEL_a55ea1d36e0d4c3db92216b1cc8261bf"
            ]
          }
        },
        "6628bccbe4c243659ddff9cdacbd2ce9": {
          "model_module": "@jupyter-widgets/base",
          "model_name": "LayoutModel",
          "state": {
            "_view_name": "LayoutView",
            "grid_template_rows": null,
            "right": null,
            "justify_content": null,
            "_view_module": "@jupyter-widgets/base",
            "overflow": null,
            "_model_module_version": "1.2.0",
            "_view_count": null,
            "flex_flow": null,
            "width": null,
            "min_width": null,
            "border": null,
            "align_items": null,
            "bottom": null,
            "_model_module": "@jupyter-widgets/base",
            "top": null,
            "grid_column": null,
            "overflow_y": null,
            "overflow_x": null,
            "grid_auto_flow": null,
            "grid_area": null,
            "grid_template_columns": null,
            "flex": null,
            "_model_name": "LayoutModel",
            "justify_items": null,
            "grid_row": null,
            "max_height": null,
            "align_content": null,
            "visibility": null,
            "align_self": null,
            "height": null,
            "min_height": null,
            "padding": null,
            "grid_auto_rows": null,
            "grid_gap": null,
            "max_width": null,
            "order": null,
            "_view_module_version": "1.2.0",
            "grid_template_areas": null,
            "object_position": null,
            "object_fit": null,
            "grid_auto_columns": null,
            "margin": null,
            "display": null,
            "left": null
          }
        },
        "ada38ecbdc2d4a8086478de1871a35f6": {
          "model_module": "@jupyter-widgets/controls",
          "model_name": "FloatProgressModel",
          "state": {
            "_view_name": "ProgressView",
            "style": "IPY_MODEL_373a8a0d67794697834035a80de27b8d",
            "_dom_classes": [],
            "description": "",
            "_model_name": "FloatProgressModel",
            "bar_style": "success",
            "max": 1,
            "_view_module": "@jupyter-widgets/controls",
            "_model_module_version": "1.5.0",
            "value": 1,
            "_view_count": null,
            "_view_module_version": "1.5.0",
            "orientation": "horizontal",
            "min": 0,
            "description_tooltip": null,
            "_model_module": "@jupyter-widgets/controls",
            "layout": "IPY_MODEL_c29d48d9ff1247979d63ca1356175b2f"
          }
        },
        "a55ea1d36e0d4c3db92216b1cc8261bf": {
          "model_module": "@jupyter-widgets/controls",
          "model_name": "HTMLModel",
          "state": {
            "_view_name": "HTMLView",
            "style": "IPY_MODEL_b6363654430a45deb52fffe234a4a38f",
            "_dom_classes": [],
            "description": "",
            "_model_name": "HTMLModel",
            "placeholder": "​",
            "_view_module": "@jupyter-widgets/controls",
            "_model_module_version": "1.5.0",
            "value": " 8192/? [00:00&lt;00:00, 14610.46it/s]",
            "_view_count": null,
            "_view_module_version": "1.5.0",
            "description_tooltip": null,
            "_model_module": "@jupyter-widgets/controls",
            "layout": "IPY_MODEL_ba9a22e5ac844c4db079c1f5789c00db"
          }
        },
        "373a8a0d67794697834035a80de27b8d": {
          "model_module": "@jupyter-widgets/controls",
          "model_name": "ProgressStyleModel",
          "state": {
            "_view_name": "StyleView",
            "_model_name": "ProgressStyleModel",
            "description_width": "initial",
            "_view_module": "@jupyter-widgets/base",
            "_model_module_version": "1.5.0",
            "_view_count": null,
            "_view_module_version": "1.2.0",
            "bar_color": null,
            "_model_module": "@jupyter-widgets/controls"
          }
        },
        "c29d48d9ff1247979d63ca1356175b2f": {
          "model_module": "@jupyter-widgets/base",
          "model_name": "LayoutModel",
          "state": {
            "_view_name": "LayoutView",
            "grid_template_rows": null,
            "right": null,
            "justify_content": null,
            "_view_module": "@jupyter-widgets/base",
            "overflow": null,
            "_model_module_version": "1.2.0",
            "_view_count": null,
            "flex_flow": null,
            "width": null,
            "min_width": null,
            "border": null,
            "align_items": null,
            "bottom": null,
            "_model_module": "@jupyter-widgets/base",
            "top": null,
            "grid_column": null,
            "overflow_y": null,
            "overflow_x": null,
            "grid_auto_flow": null,
            "grid_area": null,
            "grid_template_columns": null,
            "flex": null,
            "_model_name": "LayoutModel",
            "justify_items": null,
            "grid_row": null,
            "max_height": null,
            "align_content": null,
            "visibility": null,
            "align_self": null,
            "height": null,
            "min_height": null,
            "padding": null,
            "grid_auto_rows": null,
            "grid_gap": null,
            "max_width": null,
            "order": null,
            "_view_module_version": "1.2.0",
            "grid_template_areas": null,
            "object_position": null,
            "object_fit": null,
            "grid_auto_columns": null,
            "margin": null,
            "display": null,
            "left": null
          }
        },
        "b6363654430a45deb52fffe234a4a38f": {
          "model_module": "@jupyter-widgets/controls",
          "model_name": "DescriptionStyleModel",
          "state": {
            "_view_name": "StyleView",
            "_model_name": "DescriptionStyleModel",
            "description_width": "",
            "_view_module": "@jupyter-widgets/base",
            "_model_module_version": "1.5.0",
            "_view_count": null,
            "_view_module_version": "1.2.0",
            "_model_module": "@jupyter-widgets/controls"
          }
        },
        "ba9a22e5ac844c4db079c1f5789c00db": {
          "model_module": "@jupyter-widgets/base",
          "model_name": "LayoutModel",
          "state": {
            "_view_name": "LayoutView",
            "grid_template_rows": null,
            "right": null,
            "justify_content": null,
            "_view_module": "@jupyter-widgets/base",
            "overflow": null,
            "_model_module_version": "1.2.0",
            "_view_count": null,
            "flex_flow": null,
            "width": null,
            "min_width": null,
            "border": null,
            "align_items": null,
            "bottom": null,
            "_model_module": "@jupyter-widgets/base",
            "top": null,
            "grid_column": null,
            "overflow_y": null,
            "overflow_x": null,
            "grid_auto_flow": null,
            "grid_area": null,
            "grid_template_columns": null,
            "flex": null,
            "_model_name": "LayoutModel",
            "justify_items": null,
            "grid_row": null,
            "max_height": null,
            "align_content": null,
            "visibility": null,
            "align_self": null,
            "height": null,
            "min_height": null,
            "padding": null,
            "grid_auto_rows": null,
            "grid_gap": null,
            "max_width": null,
            "order": null,
            "_view_module_version": "1.2.0",
            "grid_template_areas": null,
            "object_position": null,
            "object_fit": null,
            "grid_auto_columns": null,
            "margin": null,
            "display": null,
            "left": null
          }
        }
      }
    }
  },
  "cells": [
    {
      "cell_type": "markdown",
      "metadata": {
        "id": "0ZE0sP8u3vaG"
      },
      "source": [
        "## Pytorch"
      ]
    },
    {
      "cell_type": "code",
      "metadata": {
        "id": "-H4G1GgX3vaH"
      },
      "source": [
        "import os\n",
        "import sys\n",
        "import math\n",
        "import torch\n",
        "import random\n",
        "import numpy as np\n",
        "from tqdm import tqdm\n",
        "import torch.nn.functional as F\n",
        "import torch.nn as nn\n",
        "import matplotlib.pyplot as plt"
      ],
      "execution_count": null,
      "outputs": []
    },
    {
      "cell_type": "code",
      "metadata": {
        "id": "V5UYrryc3vaP",
        "outputId": "0103eddc-c621-4b1e-fdbe-70b4851a4ee7",
        "colab": {
          "base_uri": "https://localhost:8080/",
          "height": 51
        }
      },
      "source": [
        "x = torch.rand(2, 3)\n",
        "y = torch.rand(3, 2)\n",
        "x"
      ],
      "execution_count": null,
      "outputs": [
        {
          "output_type": "execute_result",
          "data": {
            "text/plain": [
              "tensor([[0.3008, 0.1641, 0.7855],\n",
              "        [0.5500, 0.0087, 0.0132]])"
            ]
          },
          "metadata": {
            "tags": []
          },
          "execution_count": 2
        }
      ]
    },
    {
      "cell_type": "code",
      "metadata": {
        "id": "44tZ2scW5WD-",
        "outputId": "5e0290eb-e9a8-4aaf-f96d-6edce85560fa",
        "colab": {
          "base_uri": "https://localhost:8080/",
          "height": 51
        }
      },
      "source": [
        "z = torch.empty(2, 2)\n",
        "torch.mm(x, y, out = z)"
      ],
      "execution_count": null,
      "outputs": [
        {
          "output_type": "execute_result",
          "data": {
            "text/plain": [
              "tensor([[0.5422, 0.8660],\n",
              "        [0.2927, 0.2583]])"
            ]
          },
          "metadata": {
            "tags": []
          },
          "execution_count": 3
        }
      ]
    },
    {
      "cell_type": "code",
      "metadata": {
        "id": "ylYUmVm-3vaX"
      },
      "source": [
        "def relu_forward(x):\n",
        "    return np.maximum(0,x)\n",
        "\n",
        "assert torch.all(F.relu(x) == relu_forward(x))"
      ],
      "execution_count": null,
      "outputs": []
    },
    {
      "cell_type": "code",
      "metadata": {
        "id": "2_T-IahP3vag"
      },
      "source": [
        "def elu_forward(x, alpha=0.01):\n",
        "    m = x\n",
        "    m = alpha*(torch.exp(m)-1)\n",
        "    return torch.where(x>= 0, x, m)\n",
        "\n",
        "assert torch.allclose(\n",
        "    F.elu(x),\n",
        "    elu_forward(x), \n",
        "    1e-4\n",
        ")"
      ],
      "execution_count": null,
      "outputs": []
    },
    {
      "cell_type": "code",
      "metadata": {
        "id": "cZxzAP5c3val"
      },
      "source": [
        "def lrelu_forward(x, alpha):\n",
        "    return np.maximum(alpha * x, x)\n",
        "\n",
        "assert torch.all(F.leaky_relu(x, 0.01) == lrelu_forward(x, 0.01))"
      ],
      "execution_count": null,
      "outputs": []
    },
    {
      "cell_type": "code",
      "metadata": {
        "id": "APjXMFLY3vao"
      },
      "source": [
        "def mish(x):\n",
        "    return x*torch.tanh(torch.log(1+torch.exp(x)))"
      ],
      "execution_count": null,
      "outputs": []
    },
    {
      "cell_type": "code",
      "metadata": {
        "id": "SGNbsJQ_3vas"
      },
      "source": [
        "assert torch.allclose(\n",
        "    mish(torch.tensor([1, 1, 1], dtype=torch.float32)), \n",
        "    torch.tensor([0.8651, 0.8651, 0.8651]), \n",
        "    atol=1e-4\n",
        ")\n",
        "\n",
        "assert torch.allclose(\n",
        "    mish(torch.tensor([0.6376, 0.4021, 0.6656, 0.3726], dtype=torch.float64)), \n",
        "    torch.tensor([0.5014, 0.2908, 0.5280, 0.2663], dtype=torch.float64), \n",
        "    atol=1e-4\n",
        ")"
      ],
      "execution_count": null,
      "outputs": []
    },
    {
      "cell_type": "code",
      "metadata": {
        "id": "eRynEjmS3vax"
      },
      "source": [
        "def swish(x):\n",
        "    return x*torch.sigmoid(x)"
      ],
      "execution_count": null,
      "outputs": []
    },
    {
      "cell_type": "code",
      "metadata": {
        "id": "D8082VnM3va0"
      },
      "source": [
        "assert torch.allclose(\n",
        "    swish(torch.tensor([1, 1, 1], dtype=torch.float32)), \n",
        "    torch.tensor([0.7311, 0.7311, 0.7311]), \n",
        "    atol=1e-4\n",
        ")\n",
        "\n",
        "assert torch.allclose(\n",
        "    swish(torch.tensor([0.6376, 0.4021, 0.6656, 0.3726], dtype=torch.float64)), \n",
        "    torch.tensor([0.4171, 0.2409, 0.4396, 0.2206], dtype=torch.float64), \n",
        "    atol=1e-4\n",
        ")"
      ],
      "execution_count": null,
      "outputs": []
    },
    {
      "cell_type": "markdown",
      "metadata": {
        "id": "oO02e-iW3va3"
      },
      "source": [
        "### Adam from scratch and linear regression (4 балла)\n",
        "\n",
        "\n",
        "\n",
        "\n",
        "#### Adam\n",
        "\n",
        "\n",
        "$$\n",
        "\\begin{eqnarray}\n",
        "g &=& \\frac{1}{m}\\nabla_w \\sum_i L(f(x_{i};w), y_{i}) \\\\\n",
        "m &=& \\beta_1 m + (1 - \\beta_1) g \\\\\n",
        "v &=& \\beta_2 v + (1 - \\beta_2) diag(gg^{T}) \\\\\n",
        "\\hat{m} &=& \\frac{m}{1 - \\beta_1^{t}} \\\\\n",
        "\\hat{v} &=& \\frac{v}{1 - \\beta_2^{t}} \\\\\n",
        "w &=& w - \\frac{\\eta}{\\sqrt{\\hat{v} + \\epsilon}} \\odot \\hat{m}\n",
        "\\end{eqnarray}\n",
        "$$"
      ]
    },
    {
      "cell_type": "code",
      "metadata": {
        "id": "cMTeGXGY3va4"
      },
      "source": [
        "\n",
        "from torch.optim import Optimizer\n",
        "\n",
        "\n",
        "class InClassOptimizer(Optimizer):\n",
        "    def step(self):\n",
        "        \"\"\"Perform single optimization step.\"\"\"\n",
        "        with torch.no_grad():\n",
        "            for group in self.param_groups:\n",
        "                self._group_step(group)\n",
        "\n",
        "    def _group_step(self, group):\n",
        "        # group ~ dict[str, ...]\n",
        "        \"\"\"\n",
        "        Private helper function to perform\n",
        "        single optimization step on model parameters.\n",
        "        \"\"\"\n",
        "        raise NotImplementedError()"
      ],
      "execution_count": null,
      "outputs": []
    },
    {
      "cell_type": "code",
      "metadata": {
        "id": "rXugF-ZQ3va-"
      },
      "source": [
        "class Adam(InClassOptimizer):\n",
        "    def __init__(self, params, lr=0.001, eps=1e-13, beta_1=0.9, beta_2=0.999):\n",
        "        defaults = dict(lr=lr, eps=eps, beta_1=beta_1, beta_2=beta_2)\n",
        "        super().__init__(params, defaults)\n",
        "\n",
        "    def _group_step(self, group):\n",
        "        # One group contains information about values passed in init\n",
        "        # and model parameters to update\n",
        "        lr = group['lr']\n",
        "        eps = group['eps']\n",
        "        beta_1 = group['beta_1']\n",
        "        beta_2 = group['beta_2']\n",
        "        for param in filter(lambda x: x.grad is not None, group['params']):\n",
        "            grad = param.grad.data\n",
        "            state = self.state[param]\n",
        "            if len(state) == 0:\n",
        "                state['step'] = 0\n",
        "                state['m'] = torch.zeros_like(param.data)\n",
        "                state['v'] = torch.zeros_like(param.data)\n",
        "            m, v = state['m'], state['v']\n",
        "            state['step'] += 1\n",
        "            m = torch.mul(m, beta_1) + (1 - beta_1) * grad\n",
        "            v = torch.mul(v, beta_2) + (1 - beta_2) * (grad * grad)\n",
        "\n",
        "            m_hat = m / (1 - np.power(beta_1, state['step']))\n",
        "            v_hat = v / (1 - np.power(beta_2, state['step']))\n",
        "\n",
        "            denom = v_hat.sqrt() + group['eps']\n",
        "            param.data = param.data - lr * m_hat / denom     \n",
        "         "
      ],
      "execution_count": null,
      "outputs": []
    },
    {
      "cell_type": "markdown",
      "metadata": {
        "id": "v7vSHgpl3vbB"
      },
      "source": [
        "### Xavier: \n",
        "\n",
        "$$w \\sim U[-\\frac{\\sqrt{6}}{\\sqrt{n_{in} + n_{out}}}, \\frac{\\sqrt{6}}{\\sqrt{n_{in} + n_{out}}}]$$\n"
      ]
    },
    {
      "cell_type": "code",
      "metadata": {
        "id": "TXGYggdU3vbC",
        "outputId": "bf847ad4-ef5b-410b-c226-db82eabd8909",
        "colab": {
          "base_uri": "https://localhost:8080/",
          "height": 71
        }
      },
      "source": [
        "n_input = 28 * 28\n",
        "n_output = 10\n",
        "\n",
        "\n",
        "weights = torch.tensor(\n",
        "    torch.Tensor(n_input, n_output).uniform_(-1, 1) * math.sqrt(6. / (n_input + n_output)),\n",
        "    requires_grad=True\n",
        ")\n",
        "\n",
        "\n",
        "bias = torch.randn((n_output,), requires_grad=True)\n"
      ],
      "execution_count": null,
      "outputs": [
        {
          "output_type": "stream",
          "text": [
            "/usr/local/lib/python3.6/dist-packages/ipykernel_launcher.py:7: UserWarning: To copy construct from a tensor, it is recommended to use sourceTensor.clone().detach() or sourceTensor.clone().detach().requires_grad_(True), rather than torch.tensor(sourceTensor).\n",
            "  import sys\n"
          ],
          "name": "stderr"
        }
      ]
    },
    {
      "cell_type": "code",
      "metadata": {
        "id": "FZrIDw6xTmbc",
        "outputId": "cda13e94-ce93-43fe-d6d4-dd47abe32f41",
        "colab": {
          "base_uri": "https://localhost:8080/",
          "height": 153
        }
      },
      "source": [
        "weights"
      ],
      "execution_count": null,
      "outputs": [
        {
          "output_type": "execute_result",
          "data": {
            "text/plain": [
              "tensor([[ 0.0586, -0.0805, -0.0569,  ...,  0.0824, -0.0701, -0.0846],\n",
              "        [ 0.0480,  0.0374, -0.0166,  ...,  0.0127,  0.0336, -0.0344],\n",
              "        [-0.0137,  0.0055,  0.0687,  ...,  0.0076,  0.0470, -0.0825],\n",
              "        ...,\n",
              "        [-0.0050,  0.0796, -0.0432,  ...,  0.0721, -0.0122, -0.0715],\n",
              "        [ 0.0218, -0.0096,  0.0676,  ...,  0.0576, -0.0425,  0.0738],\n",
              "        [ 0.0360, -0.0813, -0.0312,  ..., -0.0226, -0.0738,  0.0230]],\n",
              "       requires_grad=True)"
            ]
          },
          "metadata": {
            "tags": []
          },
          "execution_count": 14
        }
      ]
    },
    {
      "cell_type": "code",
      "metadata": {
        "id": "8M8Udsq43vbE"
      },
      "source": [
        "optimizer = Adam([weights, bias], lr=0.0001)\n",
        "loss = nn.CrossEntropyLoss()"
      ],
      "execution_count": null,
      "outputs": []
    },
    {
      "cell_type": "markdown",
      "metadata": {
        "id": "Vp9-sjrQ3vbH"
      },
      "source": [
        "Загрузим данные и создадим даталоадеры:"
      ]
    },
    {
      "cell_type": "code",
      "metadata": {
        "id": "7NWOKu9W3vbI",
        "outputId": "2d1ccb11-b5cf-4732-9ec2-b2f51cdcfb51",
        "colab": {
          "base_uri": "https://localhost:8080/",
          "height": 386,
          "referenced_widgets": [
            "419bf6d63db745418b1a1d89e3aa5a9c",
            "ba427dcecdb949c2a432770688c44b3e",
            "b8884fa7915e44e6a4bffdaa73a3e2f4",
            "9cda79013fe64193afb99eb444cb4784",
            "c4ba4194ce6948758ec30b7e65595b21",
            "0936dcd4e73645b5828634d4cd572e5c",
            "58f654461a304d688961149e10a1e6a2",
            "38129116c9f448c7b140680f6d03d0f0",
            "30185d70b60d4dacbda7636a69ea464a",
            "c3bbd327fadc4f98a8f35183c54f5047",
            "71786103ae2041cba9baf480614d8c87",
            "8f795593d3fe491aba990fa658220169",
            "9ad825f4ba1040c7924aa343d99d879c",
            "a266573e6eba4b14bf1492785c56995b",
            "06f9e1a6b53349209250bfac67b9c895",
            "4b4ddcf313bc4469b07b59dd11d013e5",
            "f90e2f44eb944122bdc52a36667a6491",
            "c2df15d1a335456080858f287fc189e3",
            "46715353488746f5a35b550abd96fe56",
            "9fd84c580b6246a7ac3a4a424fd5cea9",
            "ad69256fe62a45a1b2a7880e5b24015d",
            "10db47fcf25f465ea8dbd5f1d7677dd2",
            "7aa568384d94437297507d512d896fcc",
            "876a2d2eba7b41b4aa4cab0631774748",
            "7a2e17a65a384b4788d055b8e4fbfc5d",
            "6628bccbe4c243659ddff9cdacbd2ce9",
            "ada38ecbdc2d4a8086478de1871a35f6",
            "a55ea1d36e0d4c3db92216b1cc8261bf",
            "373a8a0d67794697834035a80de27b8d",
            "c29d48d9ff1247979d63ca1356175b2f",
            "b6363654430a45deb52fffe234a4a38f",
            "ba9a22e5ac844c4db079c1f5789c00db"
          ]
        }
      },
      "source": [
        "from torch.utils.data import DataLoader\n",
        "import torchvision\n",
        "import torchvision.transforms as transforms\n",
        "\n",
        "\n",
        "fashion_mnist_train = torchvision.datasets.FashionMNIST(\n",
        "    './data',\n",
        "    download=True,\n",
        "    transform=transforms.Compose([transforms.ToTensor()])\n",
        ")\n",
        "train_dataloader = DataLoader(\n",
        "    fashion_mnist_train, batch_size=128, shuffle=True, num_workers=2\n",
        ")\n",
        "\n",
        "fashion_mnist_eval = torchvision.datasets.FashionMNIST(\n",
        "    './data',\n",
        "    train=False,\n",
        "    download=True,\n",
        "    transform=transforms.Compose([transforms.ToTensor()])\n",
        ")\n",
        "\n",
        "eval_dataloader = DataLoader(\n",
        "    fashion_mnist_eval, batch_size=128, num_workers=2\n",
        ")"
      ],
      "execution_count": null,
      "outputs": [
        {
          "output_type": "stream",
          "text": [
            "Downloading http://fashion-mnist.s3-website.eu-central-1.amazonaws.com/train-images-idx3-ubyte.gz to ./data/FashionMNIST/raw/train-images-idx3-ubyte.gz\n"
          ],
          "name": "stdout"
        },
        {
          "output_type": "display_data",
          "data": {
            "application/vnd.jupyter.widget-view+json": {
              "model_id": "419bf6d63db745418b1a1d89e3aa5a9c",
              "version_minor": 0,
              "version_major": 2
            },
            "text/plain": [
              "HBox(children=(FloatProgress(value=1.0, bar_style='info', max=1.0), HTML(value='')))"
            ]
          },
          "metadata": {
            "tags": []
          }
        },
        {
          "output_type": "stream",
          "text": [
            "Extracting ./data/FashionMNIST/raw/train-images-idx3-ubyte.gz to ./data/FashionMNIST/raw\n",
            "Downloading http://fashion-mnist.s3-website.eu-central-1.amazonaws.com/train-labels-idx1-ubyte.gz to ./data/FashionMNIST/raw/train-labels-idx1-ubyte.gz\n"
          ],
          "name": "stdout"
        },
        {
          "output_type": "display_data",
          "data": {
            "application/vnd.jupyter.widget-view+json": {
              "model_id": "30185d70b60d4dacbda7636a69ea464a",
              "version_minor": 0,
              "version_major": 2
            },
            "text/plain": [
              "HBox(children=(FloatProgress(value=1.0, bar_style='info', max=1.0), HTML(value='')))"
            ]
          },
          "metadata": {
            "tags": []
          }
        },
        {
          "output_type": "stream",
          "text": [
            "Extracting ./data/FashionMNIST/raw/train-labels-idx1-ubyte.gz to ./data/FashionMNIST/raw\n",
            "Downloading http://fashion-mnist.s3-website.eu-central-1.amazonaws.com/t10k-images-idx3-ubyte.gz to ./data/FashionMNIST/raw/t10k-images-idx3-ubyte.gz\n",
            "\n"
          ],
          "name": "stdout"
        },
        {
          "output_type": "display_data",
          "data": {
            "application/vnd.jupyter.widget-view+json": {
              "model_id": "f90e2f44eb944122bdc52a36667a6491",
              "version_minor": 0,
              "version_major": 2
            },
            "text/plain": [
              "HBox(children=(FloatProgress(value=1.0, bar_style='info', max=1.0), HTML(value='')))"
            ]
          },
          "metadata": {
            "tags": []
          }
        },
        {
          "output_type": "stream",
          "text": [
            "Extracting ./data/FashionMNIST/raw/t10k-images-idx3-ubyte.gz to ./data/FashionMNIST/raw\n",
            "Downloading http://fashion-mnist.s3-website.eu-central-1.amazonaws.com/t10k-labels-idx1-ubyte.gz to ./data/FashionMNIST/raw/t10k-labels-idx1-ubyte.gz\n"
          ],
          "name": "stdout"
        },
        {
          "output_type": "display_data",
          "data": {
            "application/vnd.jupyter.widget-view+json": {
              "model_id": "7a2e17a65a384b4788d055b8e4fbfc5d",
              "version_minor": 0,
              "version_major": 2
            },
            "text/plain": [
              "HBox(children=(FloatProgress(value=1.0, bar_style='info', max=1.0), HTML(value='')))"
            ]
          },
          "metadata": {
            "tags": []
          }
        },
        {
          "output_type": "stream",
          "text": [
            "Extracting ./data/FashionMNIST/raw/t10k-labels-idx1-ubyte.gz to ./data/FashionMNIST/raw\n",
            "Processing...\n",
            "Done!\n"
          ],
          "name": "stdout"
        },
        {
          "output_type": "stream",
          "text": [
            "/usr/local/lib/python3.6/dist-packages/torchvision/datasets/mnist.py:469: UserWarning: The given NumPy array is not writeable, and PyTorch does not support non-writeable tensors. This means you can write to the underlying (supposedly non-writeable) NumPy array using the tensor. You may want to copy the array to protect its data or make it writeable before converting it to a tensor. This type of warning will be suppressed for the rest of this program. (Triggered internally at  /pytorch/torch/csrc/utils/tensor_numpy.cpp:141.)\n",
            "  return torch.from_numpy(parsed.astype(m[2], copy=False)).view(*s)\n"
          ],
          "name": "stderr"
        }
      ]
    },
    {
      "cell_type": "markdown",
      "metadata": {
        "id": "qtsT3gdJ3vbL"
      },
      "source": [
        ""
      ]
    },
    {
      "cell_type": "code",
      "metadata": {
        "id": "ZEizvayL3vbM"
      },
      "source": [
        "def train_logistic_regression(weights, bias, batch, loss, optimizer):\n",
        "    batch_size = batch[0].shape[0]\n",
        "\n",
        "    X = torch.reshape(batch[0], (batch_size, n_input,))\n",
        "    y = batch[1]\n",
        "\n",
        "    y_pred = torch.matmul(X, weights) + \\\n",
        "             bias.repeat(batch_size, 1)\n",
        "\n",
        "    loss_value = loss(y_pred, y)\n",
        "\n",
        "    loss_value.backward() \n",
        "    optimizer.step() \n",
        "    optimizer.zero_grad() \n",
        "\n",
        "    y_pred_class = torch.argmax(y_pred, dim=1)\n",
        "    return {\n",
        "        'loss': loss_value,\n",
        "        'accuracy': (y_pred_class == y).float().mean()\n",
        "    }"
      ],
      "execution_count": null,
      "outputs": []
    },
    {
      "cell_type": "code",
      "metadata": {
        "id": "c_nYbAUe3vbP",
        "outputId": "45d0fdd3-339f-454e-96a9-e00bb40e785e",
        "colab": {
          "base_uri": "https://localhost:8080/",
          "height": 265
        }
      },
      "source": [
        "%matplotlib inline\n",
        "from IPython.display import clear_output\n",
        "\n",
        "\n",
        "all_losses = []\n",
        "all_accuracies = []\n",
        "hl, = plt.plot([], [])\n",
        "\n",
        "for epoch in range(1, 100):\n",
        "    metrics_list = []\n",
        "    for i, batch in enumerate(train_dataloader):\n",
        "        metrics = train_logistic_regression(weights, bias, batch, loss, optimizer)\n",
        "        metrics_list.append(metrics)\n",
        "    all_losses.append(np.mean([float(metrics['loss']) for metrics in metrics_list]))\n",
        "    all_accuracies.append(np.mean([float(metrics['accuracy']) for metrics in metrics_list]))\n",
        "\n",
        "\n",
        "    clear_output(wait=True)\n",
        "    plt.plot(np.arange(1, epoch + 1), all_losses)\n",
        "    plt.plot(np.arange(1, epoch + 1), all_accuracies)\n",
        "    plt.show()\n",
        "    \n"
      ],
      "execution_count": null,
      "outputs": [
        {
          "output_type": "display_data",
          "data": {
            "image/png": "[encoded data removed]",
            "text/plain": [
              "<Figure size 432x288 with 1 Axes>"
            ]
          },
          "metadata": {
            "tags": [],
            "needs_background": "light"
          }
        }
      ]
    },
    {
      "cell_type": "markdown",
      "metadata": {
        "id": "nDrjxOU23vbT"
      },
      "source": [
        "Находя v, мы извлекаем корень из диагонали матрицы квадратов. Находя v_hat, мы делим на эти же квадраты. В зависимости от разброса, таким образом, мы либо получаем 1, либо меньше 1. Если без математики, оценка несмещенная, т. к. мы делаем корректировку на этот самый квадрат, и параметр стремится к генеральному.\n",
        "\n",
        "Модель начала переобучаться, когда loss стал увеличиваться, а accuracy продолжила chilling at the local optima. У нас это в районе 10 эпохи. Происходить это может, в том числе, из-за lr - каждый batch немного \"перетягивает\" точность на себя, и в конце она очень \"размазывается\". "
      ]
    },
    {
      "cell_type": "markdown",
      "metadata": {
        "id": "DDFYOW1K3vbT"
      },
      "source": [
        "### Neural"
      ]
    },
    {
      "cell_type": "code",
      "metadata": {
        "id": "482KEvjE3vbV"
      },
      "source": [
        "def train_model(model, dataloader, optimizer, loss, device):\n",
        "    model = model.train()\n",
        "\n",
        "    total_loss = 0\n",
        "    total_accuracy = 0\n",
        "    num_batches = 0\n",
        "    all_losses = []\n",
        "    \n",
        "   \n",
        "    with tqdm(total=len(dataloader), file=sys.stdout) as prbar:\n",
        "        for batch in dataloader:\n",
        "            \n",
        "            batch_size = batch[0].shape[0]\n",
        "            X = batch[0]\n",
        "            y = batch[1]\n",
        "\n",
        "            y_pred = model(X)\n",
        "            y_pred_class = torch.argmax(y_pred, dim=1)\n",
        "          \n",
        "            loss_value = loss(y_pred, y)\n",
        "            \n",
        "\n",
        "            loss_value.backward()\n",
        "            optimizer.step()\n",
        "            optimizer.zero_grad()\n",
        "\n",
        "          \n",
        "            metrics = {\n",
        "                'loss': loss_value.detach().item(),\n",
        "                'accuracy': (y_pred_class == y).float().mean()\n",
        "            }\n",
        "\n",
        "            prbar.set_description(\n",
        "                f\"Loss: {round(metrics['loss'], 4)} \"\n",
        "                f\"Accuracy: {round(metrics['accuracy'].item() * 100, 4)}\"\n",
        "            )\n",
        "            prbar.update(1)\n",
        "            total_loss += metrics['loss']\n",
        "            total_accuracy += metrics['accuracy']\n",
        "            num_batches += 1\n",
        "            all_losses.append(loss_value.detach().item())\n",
        "    metrics = {\n",
        "        'loss': total_loss / num_batches,\n",
        "        'accuracy': total_accuracy / num_batches\n",
        "    }\n",
        "    \n",
        "    return metrics\n"
      ],
      "execution_count": null,
      "outputs": []
    },
    {
      "cell_type": "code",
      "metadata": {
        "id": "R_khoR9S3vbY"
      },
      "source": [
        "# VGG-like: сверточные слои, потом полносвязные\n",
        "class FirstModel(nn.Module):\n",
        "    def __init__(self):\n",
        "        super(FirstModel, self).__init__()\n",
        "\n",
        "        self.conv1 = nn.Conv2d(1, 6, 5)\n",
        "        # self.conv1 = nn.Conv2d(3, 6, 5)\n",
        "        self.pool = nn.MaxPool2d(2, 2)\n",
        "        self.conv2 = nn.Conv2d(6, 16, 5)\n",
        "        self.fc1 = nn.Linear(256, 120)\n",
        "#         self.fc1 = nn.Linear(16 * 5 * 5, 120)\n",
        "        self.fc2 = nn.Linear(120, 84)\n",
        "        self.fc3 = nn.Linear(84, 10)\n",
        "\n",
        "    def forward(self, x):\n",
        "        x = self.pool(F.relu(self.conv1(x)))\n",
        "        x = self.pool(F.relu(self.conv2(x)))\n",
        "        x = x.view(-1, 256)\n",
        "        # x = x.view(-1, 16 * 5 * 5)\n",
        "        x = F.relu(self.fc1(x))\n",
        "        x = F.relu(self.fc2(x))\n",
        "        x = self.fc3(x)\n",
        "        return x\n"
      ],
      "execution_count": null,
      "outputs": []
    },
    {
      "cell_type": "code",
      "metadata": {
        "id": "8RZwM25a3vba"
      },
      "source": [
        "# ResNet-like: сверточные слои с пробрасыванием, потом полносвязные\n",
        "class SecondModel(nn.Module):\n",
        "    def __init__(self):\n",
        "        super(SecondModel, self).__init__()\n",
        "\n",
        "        self.conv1 = nn.Conv2d(1, 3, 5, padding=1)\n",
        "        self.conv2 = nn.Conv2d(3, 3, 3, padding=1)\n",
        "        self.conv3 = nn.Conv2d(3, 3, 3, padding=1)\n",
        "        self.conv4 = nn.Conv2d(3, 3, 3, padding=1)\n",
        "        self.fc1 = nn.Linear(3 * 26 * 26, 120)\n",
        "        self.fc2 = nn.Linear(120, 84)\n",
        "        self.fc3 = nn.Linear(84, 10)\n",
        "\n",
        "    def forward(self, x):\n",
        "        x = F.relu(self.conv1(x))\n",
        "        x = F.relu(self.conv2(x))\n",
        "        x_0 = x\n",
        "        x = F.relu(self.conv3(x))\n",
        "        x = F.relu(self.conv4(x))\n",
        "        x = x + x_0 \n",
        "        x = x.view(-1, 3 * 26 * 26)\n",
        "      \n",
        "        x = F.relu(self.fc1(x))\n",
        "        x = F.relu(self.fc2(x))\n",
        "        x = self.fc3(x)\n",
        "        return x\n"
      ],
      "execution_count": null,
      "outputs": []
    },
    {
      "cell_type": "code",
      "metadata": {
        "id": "vxObTpcr3vbg"
      },
      "source": [
        "class Reshape(nn.Module):\n",
        "    def __init__(self, *args):\n",
        "        super(Reshape, self).__init__()\n",
        "        self.shape = args\n",
        "\n",
        "    def forward(self, x):\n",
        "        return x.view(self.shape)\n",
        "\n",
        "# только полносвязные    \n",
        "third_model = nn.Sequential(\n",
        "    Reshape(-1, 28 * 28),\n",
        "    nn.Linear(28 * 28, 100),\n",
        "    nn.ReLU(),\n",
        "    nn.Linear(100, 100),\n",
        "    nn.ReLU(),\n",
        "    nn.Linear(100, 10),\n",
        ")"
      ],
      "execution_count": null,
      "outputs": []
    },
    {
      "cell_type": "code",
      "metadata": {
        "id": "8pXM3lRX3vbm",
        "outputId": "3a50c2d7-db0b-49cc-8217-9ca1587f4166",
        "colab": {
          "base_uri": "https://localhost:8080/",
          "height": 265
        }
      },
      "source": [
        "\n",
        "\n",
        "def init_model(model, optimizer):\n",
        "    if optimizer == \"SGD\":\n",
        "      optimizer = torch.optim.SGD(model.parameters(), momentum=0.9, lr=0.00001)\n",
        "\n",
        "    if optimizer == \"RMSprop\":\n",
        "      optimizer = torch.optim.RMSprop(model.parameters(), lr=0.00001)\n",
        "    else:\n",
        "      optimizer = torch.optim.Adam(model.parameters(), lr=0.00001)\n",
        "    loss = nn.CrossEntropyLoss() \n",
        "    return model, optimizer, loss\n",
        "\n",
        "model, optimizer, loss = init_model(SecondModel(), \"SGD\")\n",
        "\n",
        "all_losses = []\n",
        "all_accuracies = []\n",
        "hl, = plt.plot([], [])\n",
        "\n",
        "for epoch in range(1, 50):\n",
        "    metrics_list = []\n",
        "    metrics = train_model(model=model.to(device=device), dataloader=train_dataloader, optimizer=optimizer, loss=loss, device=device)\n",
        "    metrics_list.append(metrics)\n",
        "    all_losses.append(np.mean([float(metrics['loss']) for metrics in metrics_list]))\n",
        "    all_accuracies.append(np.mean([float(metrics['accuracy']) for metrics in metrics_list]))\n",
        "    \n",
        "\n",
        "    clear_output(wait=True)\n",
        "    plt.plot(np.arange(1, epoch + 1), all_losses)\n",
        "    plt.plot(np.arange(1, epoch + 1), all_accuracies)\n",
        "    plt.show()\n",
        "\n",
        "\n",
        "    \n",
        "\n"
      ],
      "execution_count": null,
      "outputs": [
        {
          "output_type": "display_data",
          "data": {
            "image/png": "[encoded data removed]",
            "text/plain": [
              "<Figure size 432x288 with 1 Axes>"
            ]
          },
          "metadata": {
            "tags": [],
            "needs_background": "light"
          }
        }
      ]
    },
    {
      "cell_type": "code",
      "metadata": {
        "id": "b8jDKNGr6nj-"
      },
      "source": [
        "device = torch.device(\"cuda:0\" if torch.cuda.is_available() else \"cpu\")"
      ],
      "execution_count": null,
      "outputs": []
    },
    {
      "cell_type": "code",
      "metadata": {
        "id": "Wy8fiE_IVOLi",
        "outputId": "acc88a03-a907-40f4-b0e1-aca72adbc492",
        "colab": {
          "base_uri": "https://localhost:8080/",
          "height": 265
        }
      },
      "source": [
        "model, optimizer, loss = init_model(SecondModel(), \"RMSprop\")\n",
        "\n",
        "\n",
        "all_losses = []\n",
        "all_accuracies = []\n",
        "hl, = plt.plot([], [])\n",
        "\n",
        "for epoch in range(1, 50):\n",
        "    metrics_list = []\n",
        "    metrics = train_model(model=model.to(device=device), dataloader=train_dataloader, optimizer=optimizer, loss=loss, device=device)\n",
        "    metrics_list.append(metrics)\n",
        "    all_losses.append(np.mean([float(metrics['loss']) for metrics in metrics_list]))\n",
        "    all_accuracies.append(np.mean([float(metrics['accuracy']) for metrics in metrics_list]))\n",
        "    \n",
        "\n",
        "    clear_output(wait=True)\n",
        "    plt.plot(np.arange(1, epoch + 1), all_losses)\n",
        "    plt.plot(np.arange(1, epoch + 1), all_accuracies)\n",
        "    plt.show()"
      ],
      "execution_count": null,
      "outputs": [
        {
          "output_type": "display_data",
          "data": {
            "image/png": "[encoded data removed]",
            "text/plain": [
              "<Figure size 432x288 with 1 Axes>"
            ]
          },
          "metadata": {
            "tags": [],
            "needs_background": "light"
          }
        }
      ]
    },
    {
      "cell_type": "code",
      "metadata": {
        "id": "DuAQFZ7KGT6E",
        "outputId": "7b47260d-f3c7-4d70-d5e9-cff6a3bee7a9",
        "colab": {
          "base_uri": "https://localhost:8080/",
          "height": 265
        }
      },
      "source": [
        "model, optimizer, loss = init_model(SecondModel(), \"Adam\")\n",
        "\n",
        "\n",
        "all_losses = []\n",
        "all_accuracies = []\n",
        "hl, = plt.plot([], [])\n",
        "\n",
        "for epoch in range(1, 50):\n",
        "    metrics_list = []\n",
        "    metrics = train_model(model=model.to(device=device), dataloader=train_dataloader, optimizer=optimizer, loss=loss, device=device)\n",
        "    metrics_list.append(metrics)\n",
        "    all_losses.append(np.mean([float(metrics['loss']) for metrics in metrics_list]))\n",
        "    all_accuracies.append(np.mean([float(metrics['accuracy']) for metrics in metrics_list]))\n",
        "    \n",
        "\n",
        "    clear_output(wait=True)\n",
        "    plt.plot(np.arange(1, epoch + 1), all_losses)\n",
        "    plt.plot(np.arange(1, epoch + 1), all_accuracies)\n",
        "    plt.show()"
      ],
      "execution_count": null,
      "outputs": [
        {
          "output_type": "display_data",
          "data": {
            "image/png": "[encoded data removed]",
            "text/plain": [
              "<Figure size 432x288 with 1 Axes>"
            ]
          },
          "metadata": {
            "tags": [],
            "needs_background": "light"
          }
        }
      ]
    },
    {
      "cell_type": "code",
      "metadata": {
        "id": "yBcgPruuVOLj",
        "outputId": "4c848549-4a4b-48b3-83cb-fc28937fcb36",
        "colab": {
          "base_uri": "https://localhost:8080/",
          "height": 265
        }
      },
      "source": [
        "model, optimizer, loss = init_model(FirstModel(), \"SGD\")\n",
        "all_losses = []\n",
        "all_accuracies = []\n",
        "hl, = plt.plot([], [])\n",
        "for epoch in range(1, 50):\n",
        "    metrics_list = []\n",
        "    metrics = train_model(model=model.to(device=device), dataloader=train_dataloader, optimizer=optimizer, loss=loss, device=device)\n",
        "    metrics_list.append(metrics)\n",
        "    all_losses.append(np.mean([float(metrics['loss']) for metrics in metrics_list]))\n",
        "    all_accuracies.append(np.mean([float(metrics['accuracy']) for metrics in metrics_list]))\n",
        "    clear_output(wait=True)\n",
        "    plt.plot(np.arange(1, epoch + 1), all_losses)\n",
        "    plt.plot(np.arange(1, epoch + 1), all_accuracies)\n",
        "    plt.show()"
      ],
      "execution_count": null,
      "outputs": [
        {
          "output_type": "display_data",
          "data": {
            "image/png": "[encoded data removed]",
            "text/plain": [
              "<Figure size 432x288 with 1 Axes>"
            ]
          },
          "metadata": {
            "tags": [],
            "needs_background": "light"
          }
        }
      ]
    },
    {
      "cell_type": "code",
      "metadata": {
        "id": "7J353TL9VOLj",
        "outputId": "1a059215-a668-4d61-ae63-68f547953a5d",
        "colab": {
          "base_uri": "https://localhost:8080/",
          "height": 265
        }
      },
      "source": [
        "model, optimizer, loss = init_model(FirstModel(), \"RMSprop\")\n",
        "all_losses = []\n",
        "all_accuracies = []\n",
        "hl, = plt.plot([], [])\n",
        "for epoch in range(1, 50):\n",
        "    metrics_list = []\n",
        "    metrics = train_model(model=model.to(device=device), dataloader=train_dataloader, optimizer=optimizer, loss=loss, device=device)\n",
        "    metrics_list.append(metrics)\n",
        "    all_losses.append(np.mean([float(metrics['loss']) for metrics in metrics_list]))\n",
        "    all_accuracies.append(np.mean([float(metrics['accuracy']) for metrics in metrics_list]))\n",
        "    clear_output(wait=True)\n",
        "    plt.plot(np.arange(1, epoch + 1), all_losses)\n",
        "    plt.plot(np.arange(1, epoch + 1), all_accuracies)\n",
        "    plt.show()"
      ],
      "execution_count": null,
      "outputs": [
        {
          "output_type": "display_data",
          "data": {
            "image/png": "[encoded data removed]",
            "text/plain": [
              "<Figure size 432x288 with 1 Axes>"
            ]
          },
          "metadata": {
            "tags": [],
            "needs_background": "light"
          }
        }
      ]
    },
    {
      "cell_type": "code",
      "metadata": {
        "id": "MIM4Y-tBVOLk",
        "outputId": "05e7599b-4358-4b2a-e9f1-eda7956bacf7",
        "colab": {
          "base_uri": "https://localhost:8080/",
          "height": 265
        }
      },
      "source": [
        "model, optimizer, loss = init_model(FirstModel(), \"Adam\")\n",
        "all_losses = []\n",
        "all_accuracies = []\n",
        "hl, = plt.plot([], [])\n",
        "for epoch in range(1, 50):\n",
        "    metrics_list = []\n",
        "    metrics = train_model(model=model.to(device=device), dataloader=train_dataloader, optimizer=optimizer, loss=loss, device=device)\n",
        "    metrics_list.append(metrics)\n",
        "    all_losses.append(np.mean([float(metrics['loss']) for metrics in metrics_list]))\n",
        "    all_accuracies.append(np.mean([float(metrics['accuracy']) for metrics in metrics_list]))\n",
        "    clear_output(wait=True)\n",
        "    plt.plot(np.arange(1, epoch + 1), all_losses)\n",
        "    plt.plot(np.arange(1, epoch + 1), all_accuracies)\n",
        "    plt.show()"
      ],
      "execution_count": null,
      "outputs": [
        {
          "output_type": "display_data",
          "data": {
            "image/png": "[encoded data removed]",
            "text/plain": [
              "<Figure size 432x288 with 1 Axes>"
            ]
          },
          "metadata": {
            "tags": [],
            "needs_background": "light"
          }
        }
      ]
    },
    {
      "cell_type": "code",
      "metadata": {
        "id": "iVVXRM-auAD7",
        "outputId": "f97a3107-3229-46b0-ab03-752e1d1937b2",
        "colab": {
          "base_uri": "https://localhost:8080/",
          "height": 265
        }
      },
      "source": [
        "init_model(third_model, \"SGD\")\n",
        "all_losses = []\n",
        "all_accuracies = []\n",
        "hl, = plt.plot([], [])\n",
        "for epoch in range(1, 50):\n",
        "    metrics_list = []\n",
        "    metrics = train_model(model=model.to(device=device), dataloader=train_dataloader, optimizer=optimizer, loss=loss, device=device)\n",
        "    metrics_list.append(metrics)\n",
        "    all_losses.append(np.mean([float(metrics['loss']) for metrics in metrics_list]))\n",
        "    all_accuracies.append(np.mean([float(metrics['accuracy']) for metrics in metrics_list]))\n",
        "    clear_output(wait=True)\n",
        "    plt.plot(np.arange(1, epoch + 1), all_losses)\n",
        "    plt.plot(np.arange(1, epoch + 1), all_accuracies)\n",
        "    plt.show()"
      ],
      "execution_count": null,
      "outputs": [
        {
          "output_type": "display_data",
          "data": {
            "image/png": "[encoded data removed]",
            "text/plain": [
              "<Figure size 432x288 with 1 Axes>"
            ]
          },
          "metadata": {
            "tags": [],
            "needs_background": "light"
          }
        }
      ]
    },
    {
      "cell_type": "code",
      "metadata": {
        "id": "XIBxOuTUuDvN",
        "outputId": "5044868d-1791-471b-eae6-769633c86057",
        "colab": {
          "base_uri": "https://localhost:8080/",
          "height": 265
        }
      },
      "source": [
        "init_model(third_model, \"RMSprop\")\n",
        "all_losses = []\n",
        "all_accuracies = []\n",
        "hl, = plt.plot([], [])\n",
        "for epoch in range(1, 50):\n",
        "    metrics_list = []\n",
        "    metrics = train_model(model=model.to(device=device), dataloader=train_dataloader, optimizer=optimizer, loss=loss, device=device)\n",
        "    metrics_list.append(metrics)\n",
        "    all_losses.append(np.mean([float(metrics['loss']) for metrics in metrics_list]))\n",
        "    all_accuracies.append(np.mean([float(metrics['accuracy']) for metrics in metrics_list]))\n",
        "    clear_output(wait=True)\n",
        "    plt.plot(np.arange(1, epoch + 1), all_losses)\n",
        "    plt.plot(np.arange(1, epoch + 1), all_accuracies)\n",
        "    plt.show()"
      ],
      "execution_count": null,
      "outputs": [
        {
          "output_type": "display_data",
          "data": {
            "image/png": "[encoded data removed]",
            "text/plain": [
              "<Figure size 432x288 with 1 Axes>"
            ]
          },
          "metadata": {
            "tags": [],
            "needs_background": "light"
          }
        }
      ]
    },
    {
      "cell_type": "code",
      "metadata": {
        "id": "oC-JNBLfuG9A",
        "outputId": "08cd5f61-df20-47de-d284-22c9f7ffc6fa",
        "colab": {
          "base_uri": "https://localhost:8080/",
          "height": 265
        }
      },
      "source": [
        "init_model(third_model, \"Adam\")\n",
        "all_losses = []\n",
        "all_accuracies = []\n",
        "hl, = plt.plot([], [])\n",
        "for epoch in range(1, 50):\n",
        "    metrics_list = []\n",
        "    metrics = train_model(model=model.to(device=device), dataloader=train_dataloader, optimizer=optimizer, loss=loss, device=device)\n",
        "    metrics_list.append(metrics)\n",
        "    all_losses.append(np.mean([float(metrics['loss']) for metrics in metrics_list]))\n",
        "    all_accuracies.append(np.mean([float(metrics['accuracy']) for metrics in metrics_list]))\n",
        "    clear_output(wait=True)\n",
        "    plt.plot(np.arange(1, epoch + 1), all_losses)\n",
        "    plt.plot(np.arange(1, epoch + 1), all_accuracies)\n",
        "    plt.show()"
      ],
      "execution_count": null,
      "outputs": [
        {
          "output_type": "display_data",
          "data": {
            "image/png": "[encoded data removed]",
            "text/plain": [
              "<Figure size 432x288 with 1 Axes>"
            ]
          },
          "metadata": {
            "tags": [],
            "needs_background": "light"
          }
        }
      ]
    },
    {
      "cell_type": "markdown",
      "metadata": {
        "id": "0iYwK0TdDSS1"
      },
      "source": [
        "Моделью с лучшей точностью и наименьшей ошибкой оказалась модель с только полносвязными слоями. Это происходит, возможно, потому что мы не \"играем\" с частями изображений и никак их не преобразуем. Так, с примером отличия кота от собаки возникают трудности, если нам виден только кусок уха - вероятность ошибки здесь больше, чем только при применении полносвязных слоев. По тем же причинам, работают они медленнее, поэтому эффективнее применять свертки. Более того, полносвязные сети проще переобучаются. В целом, в нашем случае, лучше себя показала ResNet-like модель. Она обучается градиентным спуском со случайной инициализацией, что уменьшает ошибку и увеличивает точность. \n",
        "\n",
        "Что касается оптимизаторов, в среднем по графикам наиболее стабильный и высокий результат наблюдается с SGD with momentim, хоть разница между метриками и не слишком велика. В случае с Adam бывают \"скачки\" в точности, в случае RMSprop ошибка часто значительно выше других оптимизаторов. Достижение оптимума в SGD проимходит за счёт инерции и параметра затухания."
      ]
    }
  ]
}